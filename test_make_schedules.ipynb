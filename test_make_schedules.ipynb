{
 "cells": [
  {
   "cell_type": "code",
   "execution_count": 43,
   "metadata": {},
   "outputs": [],
   "source": [
    "import pandas as pd\n",
    "import itertools\n",
    "import matplotlib.pyplot as plt\n",
    "from PIL import Image, ImageDraw, ImageFont\n",
    "import ast\n",
    "import seaborn as sns\n",
    "import os\n",
    "import datetime"
   ]
  },
  {
   "cell_type": "code",
   "execution_count": 44,
   "metadata": {},
   "outputs": [],
   "source": [
    "import make_schedules"
   ]
  },
  {
   "cell_type": "code",
   "execution_count": 45,
   "metadata": {},
   "outputs": [
    {
     "data": {
      "text/plain": [
       "<module 'make_schedules' from 'd:\\\\Users\\\\User\\\\Downloads\\\\courses\\\\make_schedules.py'>"
      ]
     },
     "execution_count": 45,
     "metadata": {},
     "output_type": "execute_result"
    }
   ],
   "source": [
    "import importlib\n",
    "importlib.reload(make_schedules)"
   ]
  },
  {
   "cell_type": "code",
   "execution_count": 46,
   "metadata": {},
   "outputs": [],
   "source": [
    "params = {'num_courses': 6,\n",
    "          'at_least': [\n",
    "                # {'Courses': ['ORF', 'ECO'], 'Number': 1}\n",
    "              ],\n",
    "           'at_most':[\n",
    "                    #   {'Courses': ['MAT'], 'Number': 1},\n",
    "                      ],\n",
    "           'exclude': ['ENG'],\n",
    "           'must_select': [\n",
    "            #    {'Courses': ['ORF'], 'Number': 1},\n",
    "           ],\n",
    "           'unique_deps': True,\n",
    "           'day_limits': {\n",
    "               'Monday': 3,\n",
    "                'Tuesday': 4,\n",
    "                'Wednesday': 4,\n",
    "                'Thursday': 4,\n",
    "               'Friday': 3\n",
    "               },\n",
    "           'time_limits': [\n",
    "               ('7:00 AM', '9:30 AM'),\n",
    "            #    ('5:30 PM', '9:30 PM')\n",
    "               ]\n",
    "        }"
   ]
  },
  {
   "cell_type": "code",
   "execution_count": 47,
   "metadata": {},
   "outputs": [],
   "source": [
    "sm = make_schedules.ScheduleMaker(schedules='schedules.xlsx', \n",
    "    **params\n",
    "    )"
   ]
  },
  {
   "cell_type": "code",
   "execution_count": 48,
   "metadata": {},
   "outputs": [
    {
     "name": "stdout",
     "output_type": "stream",
     "text": [
      "Generated 84 combinations\n",
      "Filtered to 84 combinations with all must haves\n",
      "Filtered to 84 combinations with at least all at leasts\n",
      "Filtered to 84 combinations with at most all at mosts\n",
      "Filtered to 84 combinations with all must selects\n",
      "Filtering time and date restrictions...\n"
     ]
    },
    {
     "data": {
      "text/plain": [
       "6"
      ]
     },
     "execution_count": 48,
     "metadata": {},
     "output_type": "execute_result"
    }
   ],
   "source": [
    "sm.generate_schedules()"
   ]
  },
  {
   "cell_type": "code",
   "execution_count": 49,
   "metadata": {},
   "outputs": [
    {
     "name": "stdout",
     "output_type": "stream",
     "text": [
      "Directory 'schedules_12_10_24_02_27_32' created successfully.\n",
      "Schedules generated\n"
     ]
    }
   ],
   "source": [
    "sm.draw_schedules()"
   ]
  }
 ],
 "metadata": {
  "kernelspec": {
   "display_name": "Python 3",
   "language": "python",
   "name": "python3"
  },
  "language_info": {
   "codemirror_mode": {
    "name": "ipython",
    "version": 3
   },
   "file_extension": ".py",
   "mimetype": "text/x-python",
   "name": "python",
   "nbconvert_exporter": "python",
   "pygments_lexer": "ipython3",
   "version": "3.10.0"
  },
  "orig_nbformat": 4
 },
 "nbformat": 4,
 "nbformat_minor": 2
}
